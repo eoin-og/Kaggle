{
 "cells": [
  {
   "cell_type": "markdown",
   "metadata": {},
   "source": [
    "Data Cleaning\n",
    "===\n",
    "\n",
    "## Overview\n",
    "In this notebook we'll take a surface level look at the data to make it easier to exlpore, feature engineer, and model. In particular we will be:\n",
    "\n",
    "* Converting any strange data types.\n",
    "* Handling missing values.\n",
    "* Converting one-hot encodings back into single variables."
   ]
  },
  {
   "cell_type": "markdown",
   "metadata": {},
   "source": [
    "### Libraries we will be using"
   ]
  },
  {
   "cell_type": "code",
   "execution_count": 1,
   "metadata": {},
   "outputs": [],
   "source": [
    "import numpy as np\n",
    "import matplotlib.pyplot as plt\n",
    "import pandas as pd\n",
    "import seaborn as sns"
   ]
  },
  {
   "cell_type": "markdown",
   "metadata": {},
   "source": [
    "### Load the data and combine into a single dataframe for cleaning"
   ]
  },
  {
   "cell_type": "code",
   "execution_count": 2,
   "metadata": {},
   "outputs": [
    {
     "name": "stdout",
     "output_type": "stream",
     "text": [
      "train df:  (9557, 143)\n",
      "test df:  (23856, 142)\n",
      "combined df:  (33413, 143)\n"
     ]
    }
   ],
   "source": [
    "train = pd.read_csv('data/train.csv')\n",
    "test = pd.read_csv('data/test.csv')\n",
    "train_len = len(train)\n",
    "df = pd.concat([train, test], sort=False)\n",
    "print('train df: ', train.shape)\n",
    "print('test df: ', test.shape)\n",
    "print('combined df: ', df.shape)"
   ]
  },
  {
   "cell_type": "markdown",
   "metadata": {},
   "source": [
    "## Fixing any unusual data types\n",
    "\n",
    "Some of the columns have the data type 'object'. This will be awkward to work with so let's see if we can convert them to something sensible"
   ]
  },
  {
   "cell_type": "code",
   "execution_count": 3,
   "metadata": {},
   "outputs": [
    {
     "data": {
      "text/plain": [
       "int64      129\n",
       "float64      9\n",
       "object       5\n",
       "dtype: int64"
      ]
     },
     "execution_count": 3,
     "metadata": {},
     "output_type": "execute_result"
    }
   ],
   "source": [
    "df.dtypes.value_counts()"
   ]
  },
  {
   "cell_type": "code",
   "execution_count": 4,
   "metadata": {},
   "outputs": [
    {
     "data": {
      "text/plain": [
       "Index(['Id', 'idhogar', 'dependency', 'edjefe', 'edjefa'], dtype='object')"
      ]
     },
     "execution_count": 4,
     "metadata": {},
     "output_type": "execute_result"
    }
   ],
   "source": [
    "df.select_dtypes('object').columns"
   ]
  },
  {
   "cell_type": "markdown",
   "metadata": {},
   "source": [
    "---\n",
    "'Id' and 'idhogar' are individual and household identifiers which won't be used for anything except submissions so we don't need to worry about them. The other three variables are:\n",
    "\n",
    "* **Dependency**: ratio of (household members younger than 19 or older than 64)/(total household members)\n",
    "* **edjefe**: years of education of male head of household (yes=1, no=2)\n",
    "* **edjefa**: years of eduction of female head of household (yes=1, no=2)\n",
    "\n",
    "A quick look at the value counts for each variable will show that the 'object' data type is due to the fact that 1 and 0 are encoded as yes and no."
   ]
  },
  {
   "cell_type": "code",
   "execution_count": 5,
   "metadata": {},
   "outputs": [
    {
     "data": {
      "text/plain": [
       "yes          7580\n",
       "no           6036\n",
       ".5           5175\n",
       "2            2499\n",
       "1.5          2471\n",
       ".33333334    2131\n",
       ".66666669    1617\n",
       "8            1415\n",
       ".25           944\n",
       "3             832\n",
       "1.3333334     362\n",
       ".2            306\n",
       "2.5           301\n",
       ".75           301\n",
       "4             295\n",
       ".40000001     259\n",
       ".60000002     136\n",
       "1.6666666     128\n",
       "5             120\n",
       "1.25           72\n",
       ".80000001      63\n",
       ".16666667      63\n",
       "3.5            36\n",
       ".83333331      33\n",
       ".14285715      32\n",
       "2.3333333      30\n",
       "2.25           26\n",
       "1.2            22\n",
       ".2857143       18\n",
       "7              16\n",
       "6              14\n",
       ".85714287      13\n",
       "3.3333333      13\n",
       ".71428573      12\n",
       "1.75           11\n",
       ".22222222      11\n",
       ".375           11\n",
       ".125            9\n",
       "Name: dependency, dtype: int64"
      ]
     },
     "execution_count": 5,
     "metadata": {},
     "output_type": "execute_result"
    }
   ],
   "source": [
    "df.dependency.value_counts()"
   ]
  },
  {
   "cell_type": "code",
   "execution_count": 6,
   "metadata": {},
   "outputs": [
    {
     "data": {
      "text/plain": [
       "no     12818\n",
       "6       6958\n",
       "11      2507\n",
       "9       1564\n",
       "3       1046\n",
       "8       1020\n",
       "15       910\n",
       "14       804\n",
       "7        797\n",
       "17       702\n",
       "5        685\n",
       "2        617\n",
       "16       609\n",
       "4        505\n",
       "12       494\n",
       "yes      416\n",
       "10       395\n",
       "13       341\n",
       "21       111\n",
       "19        44\n",
       "18        39\n",
       "20        31\n",
       "Name: edjefe, dtype: int64"
      ]
     },
     "execution_count": 6,
     "metadata": {},
     "output_type": "execute_result"
    }
   ],
   "source": [
    "df.edjefe.value_counts()"
   ]
  },
  {
   "cell_type": "code",
   "execution_count": 7,
   "metadata": {},
   "outputs": [
    {
     "data": {
      "text/plain": [
       "no     22075\n",
       "6       3401\n",
       "11      1350\n",
       "9        735\n",
       "15       656\n",
       "8        627\n",
       "5        623\n",
       "7        561\n",
       "3        533\n",
       "4        399\n",
       "16       393\n",
       "14       384\n",
       "2        347\n",
       "10       324\n",
       "17       311\n",
       "12       227\n",
       "yes      214\n",
       "13       194\n",
       "21        29\n",
       "19        14\n",
       "18         9\n",
       "20         7\n",
       "Name: edjefa, dtype: int64"
      ]
     },
     "execution_count": 7,
     "metadata": {},
     "output_type": "execute_result"
    }
   ],
   "source": [
    "df.edjefa.value_counts()"
   ]
  },
  {
   "cell_type": "markdown",
   "metadata": {},
   "source": [
    "---\n",
    "to fix this problem we can just replace the yes and no values with 1 and 0, and convert to the appropriate numeric data type/"
   ]
  },
  {
   "cell_type": "code",
   "execution_count": 8,
   "metadata": {},
   "outputs": [],
   "source": [
    "yes_no_map = dict(yes=1, no=0)\n",
    "df.dependency = df.dependency.replace(yes_no_map).astype('float64')\n",
    "df.edjefe = df.edjefe.replace(yes_no_map).astype('int64')\n",
    "df.edjefa = df.edjefa.replace(yes_no_map).astype('int64')"
   ]
  },
  {
   "cell_type": "markdown",
   "metadata": {},
   "source": [
    "## Handling missing data\n",
    "\n",
    "let's take a look at which columns have missing values"
   ]
  },
  {
   "cell_type": "code",
   "execution_count": 10,
   "metadata": {},
   "outputs": [
    {
     "data": {
      "text/plain": [
       "rez_esc           27581\n",
       "v18q1             25468\n",
       "v2a1              24263\n",
       "Target            23856\n",
       "meaneduc             36\n",
       "SQBmeaned            36\n",
       "epared3               0\n",
       "sanitario2            0\n",
       "techozinc             0\n",
       "techoentrepiso        0\n",
       "dtype: int64"
      ]
     },
     "execution_count": 10,
     "metadata": {},
     "output_type": "execute_result"
    }
   ],
   "source": [
    "df.isnull().sum().sort_values(ascending=False).head(10)"
   ]
  },
  {
   "cell_type": "markdown",
   "metadata": {},
   "source": [
    "**Target** will be missing for all test examples. **meaneduc** has 36 missing values in a dataset of ~33,000 so we will just a simple imputation for that. **SQBmeaned** is just the square of of meaneduc (which isn't very useful anyway). The remaing values are:\n",
    "\n",
    "* **rez_esc**: Years behind in school\n",
    "* **v18q1**: Number of tablets household owns\n",
    "* **v2a1**: Monthly rent payment\n",
    "\n",
    "These all seem like they could have a fairly straightforward explanation. \n",
    "\n",
    "Years behind in school likely only applies to people still in school. Lets see:"
   ]
  },
  {
   "cell_type": "code",
   "execution_count": 11,
   "metadata": {},
   "outputs": [
    {
     "data": {
      "image/png": "[encoded data removed]",
      "text/plain": [
       "<Figure size 432x288 with 1 Axes>"
      ]
     },
     "metadata": {},
     "output_type": "display_data"
    }
   ],
   "source": [
    "plt.plot(df[df.rez_esc.isnull()].age.value_counts(), 'r.', label='is null')\n",
    "plt.plot(df[~df.rez_esc.isnull()].age.value_counts(), 'b.', label='is not null')\n",
    "plt.xlabel('Age')\n",
    "plt.ylabel('Value Count')\n",
    "plt.legend()\n",
    "plt.show()"
   ]
  },
  {
   "cell_type": "markdown",
   "metadata": {},
   "source": [
    "We can fix this by setting all null values to zero, we'll also add a boolean variable if the value was NULL"
   ]
  },
  {
   "cell_type": "code",
   "execution_count": 12,
   "metadata": {},
   "outputs": [],
   "source": [
    "df['rez_esc_MISSING'] = df.rez_esc.isnull().astype('int64')\n",
    "df.loc[df.rez_esc.isnull(), 'rez_esc'] = 0"
   ]
  },
  {
   "cell_type": "markdown",
   "metadata": {},
   "source": [
    "There is another variable **v18q** which is a boolean which represents whether or not the household owns a tablet. The examples which had a negative answer to this question must not have been asked how many tablets they owned, giving us so many missing examples. We can replace the missing values with 0."
   ]
  },
  {
   "cell_type": "code",
   "execution_count": 13,
   "metadata": {},
   "outputs": [
    {
     "name": "stdout",
     "output_type": "stream",
     "text": [
      "25468\n",
      "0    25468\n",
      "1     7945\n",
      "Name: v18q, dtype: int64\n"
     ]
    }
   ],
   "source": [
    "print(df.v18q1.isnull().sum())\n",
    "print(df.v18q.value_counts())"
   ]
  },
  {
   "cell_type": "code",
   "execution_count": 14,
   "metadata": {},
   "outputs": [],
   "source": [
    "df.v18q1.fillna(0, inplace=True)"
   ]
  },
  {
   "cell_type": "markdown",
   "metadata": {},
   "source": [
    "An obvious explanation for missing values in monthly rent payments would behouseholds that do not pay rent. The answer to this lies in three other variables which describe the housing situation of the household **tipovivi**(=1 if own and fully paid house), **tipovivi4**(=1 if precarious), **tipovivi5**(=1 other (assigned, borrowed). Below we can see that these variables explain the missing values."
   ]
  },
  {
   "cell_type": "code",
   "execution_count": 15,
   "metadata": {},
   "outputs": [
    {
     "name": "stdout",
     "output_type": "stream",
     "text": [
      "24263\n",
      "20844\n",
      "597\n",
      "2822\n"
     ]
    }
   ],
   "source": [
    "print(df.v2a1.isnull().sum()) # 24263\n",
    "\n",
    "print(df.tipovivi1.sum()) # 20844 owns\n",
    "print(df.tipovivi4.sum()) #   597 precarious\n",
    "print(df.tipovivi5.sum()) #  2822 other\n",
    "#                           -----\n",
    "#                           24263 don't rent\n",
    "\n",
    "# no rent = owns + precarious + other\n",
    "df['v2a1_MISSING'] = df.v2a1.isnull().astype('int64')\n",
    "df.loc[df.v2a1.isnull(), 'v2a1'] = 0"
   ]
  },
  {
   "cell_type": "code",
   "execution_count": null,
   "metadata": {},
   "outputs": [],
   "source": [
    "df.fillna(df.meaneduc.mean(), inplace=True) # simple mean imputation"
   ]
  },
  {
   "cell_type": "markdown",
   "metadata": {},
   "source": [
    "## Decode one hot encodings\n",
    "\n",
    "One hot encodings are awkward to visualise, and since we likely use a tree based ensemble model can be counter productive. Which columns are one hot encodings were discerned by looking at the descriptions on Kaggle."
   ]
  },
  {
   "cell_type": "code",
   "execution_count": 16,
   "metadata": {},
   "outputs": [],
   "source": [
    "# helper function\n",
    "def decode_onehot(df, keyword, col_name, mappings=None):\n",
    "    cols = [col for col in df.columns if col.startswith(keyword)]\n",
    "    df[col_name] = pd.get_dummies(df[cols]).idxmax(1)\n",
    "    if mappings is not None:\n",
    "        df.replace(mappings, inplace=True)\n",
    "    df.drop(cols, axis=1, inplace=True)"
   ]
  },
  {
   "cell_type": "code",
   "execution_count": 17,
   "metadata": {},
   "outputs": [],
   "source": [
    "# maybe add mappings\n",
    "decode_tars = [('pared', 'building_mat'),\n",
    "                ('piso', 'floor_mat'),\n",
    "                ('techo', 'roof_mat'),\n",
    "                ('abasta', 'water_supply'),\n",
    "                (('public', 'planpri', 'noelec', 'coopele'), 'elec_supply'),\n",
    "                ('sanitario', 'sanit_supply'),\n",
    "                ('energcocinar', 'cook_energy'),\n",
    "                ('elimbasu', 'rubbish_disposal'),\n",
    "                ('epared', 'wall_quality'),\n",
    "                ('etecho', 'roof_quality'),\n",
    "                ('eviv', 'floor_quality'),\n",
    "                (('male', 'female'), 'gender'),\n",
    "                ('estadocivil', 'relationship_status'),\n",
    "                ('parentesco', 'family_role'),\n",
    "                ('instlevel', 'edu_level'),\n",
    "                ('tipovivi', 'home_own_status'),\n",
    "                ('lugar', 'region'),\n",
    "                ('area', 'urban_rural')]\n",
    "\n",
    "for tar_prefix, new_col_name in decode_tars:\n",
    "    decode_onehot(df, tar_prefix, new_col_name)"
   ]
  },
  {
   "cell_type": "markdown",
   "metadata": {},
   "source": [
    "Split the data back up and save for further work"
   ]
  },
  {
   "cell_type": "code",
   "execution_count": 18,
   "metadata": {},
   "outputs": [],
   "source": [
    "cl_train = df[:train_len]\n",
    "cl_test = df[train_len:]\n",
    "\n",
    "cl_train.to_csv('data/cleaned_train.csv', index=False)\n",
    "cl_test.to_csv('data/cleaned_test.csv', index=False)"
   ]
  }
 ],
 "metadata": {
  "kernelspec": {
   "display_name": "Python 3",
   "language": "python",
   "name": "python3"
  },
  "language_info": {
   "codemirror_mode": {
    "name": "ipython",
    "version": 3
   },
   "file_extension": ".py",
   "mimetype": "text/x-python",
   "name": "python",
   "nbconvert_exporter": "python",
   "pygments_lexer": "ipython3",
   "version": "3.6.4"
  }
 },
 "nbformat": 4,
 "nbformat_minor": 2
}
