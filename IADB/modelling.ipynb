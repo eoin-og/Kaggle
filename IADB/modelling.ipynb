{
 "cells": [
  {
   "cell_type": "markdown",
   "metadata": {},
   "source": [
    "# Modelling\n",
    "\n",
    "## Overview\n",
    "In this notebook we will try to model our data using catboost and see how well we can do. The f1 macro score is specified as the metric we should use for evaluation. Bayesian hyperparameter tuning is used.\n",
    "\n",
    "---\n",
    "### Load libraries and data"
   ]
  },
  {
   "cell_type": "code",
   "execution_count": 15,
   "metadata": {},
   "outputs": [],
   "source": [
    "import pandas as pd\n",
    "import matplotlib.pyplot as plt\n",
    "import numpy as np\n",
    "\n",
    "from sklearn.model_selection import train_test_split, cross_val_score\n",
    "from sklearn.metrics import f1_score, make_scorer\n",
    "\n",
    "import catboost as cb\n",
    "from hyperopt import hp, tpe, fmin"
   ]
  },
  {
   "cell_type": "code",
   "execution_count": 34,
   "metadata": {},
   "outputs": [],
   "source": [
    "train = pd.read_csv('data/final_train.csv')"
   ]
  },
  {
   "cell_type": "markdown",
   "metadata": {},
   "source": [
    "Drop ID columns and split training data into X and y"
   ]
  },
  {
   "cell_type": "code",
   "execution_count": 35,
   "metadata": {},
   "outputs": [],
   "source": [
    "train.drop(['Id', 'idhogar'], axis=1, inplace=True)"
   ]
  },
  {
   "cell_type": "code",
   "execution_count": 36,
   "metadata": {},
   "outputs": [],
   "source": [
    "X = train.drop('Target', axis=1)\n",
    "y = train.Target\n",
    "\n",
    "# take one from y so values are 0-3, instead of 1-4 (this is required for catboost)\n",
    "y -= 1\n",
    "X.fillna(X.meaneduc.mean(), inplace=True)"
   ]
  },
  {
   "cell_type": "markdown",
   "metadata": {},
   "source": [
    "Catboost will preform better when the columns with categorical values are explicitly passed to it."
   ]
  },
  {
   "cell_type": "code",
   "execution_count": 37,
   "metadata": {},
   "outputs": [],
   "source": [
    "cate_cols = [X.columns.get_loc(col) for col in X.columns if train[col].dtype != 'float64']"
   ]
  },
  {
   "cell_type": "markdown",
   "metadata": {},
   "source": [
    "Split into training and validation data"
   ]
  },
  {
   "cell_type": "code",
   "execution_count": 38,
   "metadata": {},
   "outputs": [],
   "source": [
    "train_X, val_X, train_y, val_y = train_test_split(X, y, test_size=0.2)"
   ]
  },
  {
   "cell_type": "markdown",
   "metadata": {},
   "source": [
    "Objective function for Hyperopt"
   ]
  },
  {
   "cell_type": "code",
   "execution_count": 41,
   "metadata": {},
   "outputs": [],
   "source": [
    "def objective(params):\n",
    "    cat_params = {'depth':10, 'l2_leaf_reg':9, 'learning_rate':0.15}\n",
    "    cat_params['depth'] = int(params['depth'])\n",
    "    \n",
    "    clf = cb.CatBoostClassifier(loss_function='MultiClass',\n",
    "                                eval_metric='MultiClass',\n",
    "                                use_best_model=True,\n",
    "                                iterations=100,\n",
    "                                verbose=False, \n",
    "                                classes_count=4,\n",
    "                                learning_rate=cat_params['learning_rate'],\n",
    "                                depth=cat_params['depth'],\n",
    "                                l2_leaf_reg=cat_params['l2_leaf_reg']\n",
    "                                )\n",
    "    clf.fit(train_X, train_y, eval_set=(val_X, val_y), use_best_model=True, cat_features=cate_cols)\n",
    "    \n",
    "    pred_y = clf.predict(val_X)\n",
    "    score = f1_score(val_y, pred_y, average='macro')\n",
    "    print('params: ', params, ' -- score: ', score)\n",
    "    return score"
   ]
  },
  {
   "cell_type": "code",
   "execution_count": 42,
   "metadata": {},
   "outputs": [
    {
     "name": "stdout",
     "output_type": "stream",
     "text": [
      "params:  {'depth': 7.0, 'l2_leaf_rag': 7.0}  -- score:  0.7526395291032701\n",
      "params:  {'depth': 7.0, 'l2_leaf_rag': 5.0}  -- score:  0.7573407146406984\n",
      "params:  {'depth': 4.0, 'l2_leaf_rag': 6.0}  -- score:  0.5947449433904906\n",
      "params:  {'depth': 8.0, 'l2_leaf_rag': 5.0}  -- score:  0.7459777833323072\n",
      "params:  {'depth': 5.0, 'l2_leaf_rag': 4.0}  -- score:  0.6932658505232344\n",
      "params:  {'depth': 7.0, 'l2_leaf_rag': 5.0}  -- score:  0.7308379103128568\n",
      "params:  {'depth': 6.0, 'l2_leaf_rag': 5.0}  -- score:  0.7324158245874087\n",
      "params:  {'depth': 6.0, 'l2_leaf_rag': 8.0}  -- score:  0.7087100657644466\n",
      "params:  {'depth': 7.0, 'l2_leaf_rag': 4.0}  -- score:  0.7675390969952225\n",
      "params:  {'depth': 8.0, 'l2_leaf_rag': 8.0}  -- score:  0.7656404669001636\n",
      "params:  {'depth': 7.0, 'l2_leaf_rag': 3.0}  -- score:  0.7602884379759443\n",
      "params:  {'depth': 8.0, 'l2_leaf_rag': 4.0}  -- score:  0.7430856801847904\n",
      "params:  {'depth': 6.0, 'l2_leaf_rag': 4.0}  -- score:  0.7488231192644822\n",
      "params:  {'depth': 6.0, 'l2_leaf_rag': 8.0}  -- score:  0.7301834075810123\n",
      "params:  {'depth': 7.0, 'l2_leaf_rag': 8.0}  -- score:  0.7618238743530402\n",
      "params:  {'depth': 6.0, 'l2_leaf_rag': 5.0}  -- score:  0.7445994064641303\n",
      "params:  {'depth': 7.0, 'l2_leaf_rag': 4.0}  -- score:  0.7548090403533259\n",
      "params:  {'depth': 5.0, 'l2_leaf_rag': 7.0}  -- score:  0.6644218422513176\n",
      "params:  {'depth': 4.0, 'l2_leaf_rag': 7.0}  -- score:  0.6194920899363887\n",
      "params:  {'depth': 8.0, 'l2_leaf_rag': 6.0}  -- score:  0.7748622900963027\n",
      "params:  {'depth': 3.0, 'l2_leaf_rag': 7.0}  -- score:  0.5110344573687153\n",
      "params:  {'depth': 3.0, 'l2_leaf_rag': 6.0}  -- score:  0.5275823451023323\n",
      "params:  {'depth': 3.0, 'l2_leaf_rag': 6.0}  -- score:  0.5233759995920663\n",
      "params:  {'depth': 3.0, 'l2_leaf_rag': 7.0}  -- score:  0.5064276870200637\n",
      "params:  {'depth': 4.0, 'l2_leaf_rag': 7.0}  -- score:  0.6362242482517743\n",
      "params:  {'depth': 3.0, 'l2_leaf_rag': 7.0}  -- score:  0.5079000378445081\n",
      "params:  {'depth': 4.0, 'l2_leaf_rag': 7.0}  -- score:  0.6231333034426549\n",
      "params:  {'depth': 3.0, 'l2_leaf_rag': 8.0}  -- score:  0.503775410896221\n",
      "params:  {'depth': 5.0, 'l2_leaf_rag': 8.0}  -- score:  0.6840576276777505\n",
      "params:  {'depth': 3.0, 'l2_leaf_rag': 8.0}  -- score:  0.4928400875827852\n",
      "params:  {'depth': 4.0, 'l2_leaf_rag': 8.0}  -- score:  0.6440969105849013\n",
      "params:  {'depth': 4.0, 'l2_leaf_rag': 8.0}  -- score:  0.6012441398077324\n",
      "params:  {'depth': 3.0, 'l2_leaf_rag': 3.0}  -- score:  0.5200995638425678\n",
      "params:  {'depth': 5.0, 'l2_leaf_rag': 8.0}  -- score:  0.6819650916398814\n",
      "params:  {'depth': 4.0, 'l2_leaf_rag': 6.0}  -- score:  0.6192927675300348\n",
      "params:  {'depth': 3.0, 'l2_leaf_rag': 7.0}  -- score:  0.5221088694282138\n",
      "params:  {'depth': 3.0, 'l2_leaf_rag': 8.0}  -- score:  0.5133858785380976\n",
      "params:  {'depth': 4.0, 'l2_leaf_rag': 7.0}  -- score:  0.6213254015579598\n",
      "params:  {'depth': 5.0, 'l2_leaf_rag': 6.0}  -- score:  0.673296286674601\n",
      "params:  {'depth': 4.0, 'l2_leaf_rag': 8.0}  -- score:  0.6346702756419181\n",
      "params:  {'depth': 5.0, 'l2_leaf_rag': 5.0}  -- score:  0.7017720835894449\n",
      "params:  {'depth': 3.0, 'l2_leaf_rag': 8.0}  -- score:  0.49215191660577196\n",
      "params:  {'depth': 3.0, 'l2_leaf_rag': 3.0}  -- score:  0.5275805878760771\n",
      "params:  {'depth': 5.0, 'l2_leaf_rag': 5.0}  -- score:  0.6960478918625492\n",
      "params:  {'depth': 4.0, 'l2_leaf_rag': 6.0}  -- score:  0.6401193180163921\n",
      "params:  {'depth': 3.0, 'l2_leaf_rag': 8.0}  -- score:  0.4933589781885447\n",
      "params:  {'depth': 6.0, 'l2_leaf_rag': 7.0}  -- score:  0.7271416076710662\n",
      "params:  {'depth': 3.0, 'l2_leaf_rag': 8.0}  -- score:  0.49513442055228896\n",
      "params:  {'depth': 4.0, 'l2_leaf_rag': 4.0}  -- score:  0.6295829915694794\n",
      "params:  {'depth': 8.0, 'l2_leaf_rag': 5.0}  -- score:  0.7523343611058074\n"
     ]
    }
   ],
   "source": [
    "space = {'depth': hp.quniform('depth', 3, 8, 1),\n",
    "         'l2_leaf_rag': hp.quniform('l2_leaf_rag', 3, 8, 1)}\n",
    "\n",
    "best = fmin(fn=objective,\n",
    "            space=space,\n",
    "            algo=tpe.suggest,\n",
    "            max_evals=50)"
   ]
  }
 ],
 "metadata": {
  "kernelspec": {
   "display_name": "Python 3",
   "language": "python",
   "name": "python3"
  },
  "language_info": {
   "codemirror_mode": {
    "name": "ipython",
    "version": 3
   },
   "file_extension": ".py",
   "mimetype": "text/x-python",
   "name": "python",
   "nbconvert_exporter": "python",
   "pygments_lexer": "ipython3",
   "version": "3.6.4"
  }
 },
 "nbformat": 4,
 "nbformat_minor": 2
}
